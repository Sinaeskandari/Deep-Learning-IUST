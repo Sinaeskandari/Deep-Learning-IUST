{
  "cells": [
    {
      "cell_type": "markdown",
      "metadata": {
        "id": "nn3PnJh9Iq7j"
      },
      "source": [
        "# Data Agumentation Problem\n",
        "#### Here you need to compare two models with and without agumentation to see the difference"
      ]
    },
    {
      "cell_type": "markdown",
      "metadata": {
        "id": "xqJ3j96EIq7p"
      },
      "source": [
        "### Import libraries"
      ]
    },
    {
      "cell_type": "code",
      "execution_count": null,
      "metadata": {
        "id": "DApO-QgeUJyh"
      },
      "outputs": [],
      "source": [
        "import glob\n",
        "import cv2\n",
        "import numpy as np\n",
        "import random"
      ]
    },
    {
      "cell_type": "markdown",
      "metadata": {
        "id": "2jQtpWqAIq7s"
      },
      "source": [
        "### Read Images"
      ]
    },
    {
      "cell_type": "code",
      "execution_count": null,
      "metadata": {
        "id": "KnJzql-edFlp"
      },
      "outputs": [],
      "source": [
        "# First we should read all the images from the provided directory,\n",
        "# 1. first unzip the .zip file attached with homeworks\n",
        "# 2. read images from directory\n",
        "# 3. create labels array\n",
        "\n",
        "!unzip data_aug-20221101T192103Z-001.zip\n",
        "\n",
        "########################\n",
        "## PUT YOUR CODE HERE ##\n",
        "########################\n",
        "height, width = 28, 28\n",
        "data_num = 100\n",
        "X = np.zeros((data_num, height, width, 3)).astype(np.uint8)\n",
        "y = np.zeros((data_num,)).astype(np.uint8)\n",
        "\n",
        "for i, path in enumerate(glob.glob('data_aug/*')):\n",
        "    img = cv2.imread(path)\n",
        "    img = cv2.cvtColor(img, cv2.COLOR_BGR2RGB)\n",
        "    X[i] = cv2.resize(img, (height, width))\n",
        "    if path.startswith('data_aug/cat'):\n",
        "        y[i] = 0\n",
        "    else:\n",
        "        y[i] = 1"
      ]
    },
    {
      "cell_type": "markdown",
      "metadata": {
        "id": "4ZVb9F9EIq7t"
      },
      "source": [
        "### Prepare Dataset"
      ]
    },
    {
      "cell_type": "code",
      "execution_count": null,
      "metadata": {
        "id": "AhInWVpUeqI2"
      },
      "outputs": [],
      "source": [
        "# Normalize your dataset in a way to have a image dataset with pixles in range (0 to 1)\n",
        "\n",
        "########################\n",
        "## PUT YOUR CODE HERE ##\n",
        "########################\n",
        "X = X / 255"
      ]
    },
    {
      "cell_type": "code",
      "execution_count": null,
      "metadata": {
        "id": "WJvVTTO1gwr4"
      },
      "outputs": [],
      "source": [
        "# Resize your images to (28 * 28)\n",
        "\n",
        "\n",
        "########################\n",
        "## PUT YOUR CODE HERE ##\n",
        "########################\n",
        "\n",
        "# I did this when I read the data"
      ]
    },
    {
      "cell_type": "code",
      "execution_count": null,
      "metadata": {
        "id": "hHAp88v5hjOX"
      },
      "outputs": [],
      "source": [
        "# Flatten your dataset images \n",
        "\n",
        "\n",
        "########################\n",
        "## PUT YOUR CODE HERE ##\n",
        "########################\n",
        "X = X.reshape((100, 28 * 28 * 3))\n",
        "y = y.reshape((100, 1))"
      ]
    },
    {
      "cell_type": "code",
      "execution_count": null,
      "metadata": {
        "id": "YC-_5hy7iQy7"
      },
      "outputs": [],
      "source": [
        "# Check your dataset and labels to be a numpy ndarray of sizes (100, 28 * 28 * 3) and (100, 1) respectively.\n",
        "\n",
        "\n",
        "########################\n",
        "## PUT YOUR CODE HERE ##\n",
        "########################\n",
        "assert X.shape == (100, 28 * 28 * 3)\n",
        "assert y.shape == (100, 1)"
      ]
    },
    {
      "cell_type": "markdown",
      "metadata": {
        "id": "HwL11jFXIq7v"
      },
      "source": [
        "### Create your Model"
      ]
    },
    {
      "cell_type": "code",
      "execution_count": null,
      "metadata": {
        "id": "oYbae1_5Iq7w"
      },
      "outputs": [],
      "source": [
        "from tensorflow.keras.models import Sequential\n",
        "from tensorflow.keras.layers import Dense, Activation\n",
        "from tensorflow.keras.optimizers import Adam\n",
        "from tensorflow.keras.losses import BinaryCrossentropy"
      ]
    },
    {
      "cell_type": "code",
      "execution_count": null,
      "metadata": {
        "colab": {
          "base_uri": "https://localhost:8080/"
        },
        "id": "NDesDTToIq7w",
        "outputId": "da0a0dd5-2066-4c94-ec67-75f266d9d3c9"
      },
      "outputs": [
        {
          "output_type": "stream",
          "name": "stdout",
          "text": [
            "Model: \"sequential\"\n",
            "_________________________________________________________________\n",
            " Layer (type)                Output Shape              Param #   \n",
            "=================================================================\n",
            " dense (Dense)               (None, 128)               301184    \n",
            "                                                                 \n",
            " dense_1 (Dense)             (None, 64)                8256      \n",
            "                                                                 \n",
            " dense_2 (Dense)             (None, 1)                 65        \n",
            "                                                                 \n",
            "=================================================================\n",
            "Total params: 309,505\n",
            "Trainable params: 309,505\n",
            "Non-trainable params: 0\n",
            "_________________________________________________________________\n"
          ]
        }
      ],
      "source": [
        "# create a simple model of Keras MLP with desired number of dense layers and units and activation function\n",
        "# don't forget to shuffle the data\n",
        "# this is a binary classification problem\n",
        "\n",
        "\n",
        "\n",
        "########################\n",
        "## PUT YOUR CODE HERE ##\n",
        "########################\n",
        "model = Sequential()\n",
        "model.add(Dense(128, activation='relu', input_shape=X[0].shape))\n",
        "model.add(Dense(64, activation='relu'))\n",
        "model.add(Dense(1, activation='sigmoid'))\n",
        "\n",
        "model.summary()"
      ]
    },
    {
      "cell_type": "code",
      "execution_count": null,
      "metadata": {
        "id": "ojRl7R_zIq7x"
      },
      "outputs": [],
      "source": [
        "# Split your dataset to test and train with your desired implementation\n",
        "# use sklearn.model_selection.train_test_split\n",
        "\n",
        "\n",
        "########################\n",
        "## PUT YOUR CODE HERE ##\n",
        "########################\n",
        "from sklearn.model_selection import train_test_split\n",
        "\n",
        "X_train, X_test, y_train, y_test = train_test_split(X, y, test_size=0.33, random_state=42)"
      ]
    },
    {
      "cell_type": "code",
      "execution_count": null,
      "metadata": {
        "colab": {
          "base_uri": "https://localhost:8080/"
        },
        "id": "ZWdoM1ozIq7x",
        "outputId": "0cfaa1e6-a641-4a8c-b162-52e46b084aaa"
      },
      "outputs": [
        {
          "output_type": "stream",
          "name": "stdout",
          "text": [
            "Epoch 1/20\n",
            "67/67 [==============================] - 1s 6ms/step - loss: 0.9642 - accuracy: 0.4776 - val_loss: 0.7353 - val_accuracy: 0.4242\n",
            "Epoch 2/20\n",
            "67/67 [==============================] - 0s 4ms/step - loss: 0.7657 - accuracy: 0.4478 - val_loss: 0.7044 - val_accuracy: 0.5455\n",
            "Epoch 3/20\n",
            "67/67 [==============================] - 0s 4ms/step - loss: 0.6589 - accuracy: 0.6567 - val_loss: 0.7918 - val_accuracy: 0.4242\n",
            "Epoch 4/20\n",
            "67/67 [==============================] - 0s 4ms/step - loss: 0.6803 - accuracy: 0.5672 - val_loss: 0.8496 - val_accuracy: 0.4242\n",
            "Epoch 5/20\n",
            "67/67 [==============================] - 0s 3ms/step - loss: 0.5923 - accuracy: 0.7015 - val_loss: 0.9426 - val_accuracy: 0.3636\n",
            "Epoch 6/20\n",
            "67/67 [==============================] - 0s 3ms/step - loss: 0.6218 - accuracy: 0.6716 - val_loss: 1.2010 - val_accuracy: 0.4545\n",
            "Epoch 7/20\n",
            "67/67 [==============================] - 0s 3ms/step - loss: 0.6763 - accuracy: 0.6119 - val_loss: 0.8068 - val_accuracy: 0.3939\n",
            "Epoch 8/20\n",
            "67/67 [==============================] - 0s 4ms/step - loss: 0.5797 - accuracy: 0.7164 - val_loss: 0.9630 - val_accuracy: 0.4242\n",
            "Epoch 9/20\n",
            "67/67 [==============================] - 0s 3ms/step - loss: 0.5009 - accuracy: 0.7910 - val_loss: 1.4824 - val_accuracy: 0.4242\n",
            "Epoch 10/20\n",
            "67/67 [==============================] - 0s 3ms/step - loss: 0.4522 - accuracy: 0.7761 - val_loss: 1.0658 - val_accuracy: 0.4242\n",
            "Epoch 11/20\n",
            "67/67 [==============================] - 0s 4ms/step - loss: 0.5544 - accuracy: 0.7463 - val_loss: 0.9118 - val_accuracy: 0.4242\n",
            "Epoch 12/20\n",
            "67/67 [==============================] - 0s 4ms/step - loss: 0.4243 - accuracy: 0.8358 - val_loss: 1.1224 - val_accuracy: 0.4242\n",
            "Epoch 13/20\n",
            "67/67 [==============================] - 0s 4ms/step - loss: 0.3473 - accuracy: 0.8507 - val_loss: 1.1283 - val_accuracy: 0.3636\n",
            "Epoch 14/20\n",
            "67/67 [==============================] - 0s 4ms/step - loss: 0.2886 - accuracy: 0.9104 - val_loss: 2.1041 - val_accuracy: 0.4242\n",
            "Epoch 15/20\n",
            "67/67 [==============================] - 0s 3ms/step - loss: 0.3373 - accuracy: 0.8507 - val_loss: 1.5532 - val_accuracy: 0.3333\n",
            "Epoch 16/20\n",
            "67/67 [==============================] - 0s 4ms/step - loss: 0.3395 - accuracy: 0.8507 - val_loss: 1.3778 - val_accuracy: 0.4545\n",
            "Epoch 17/20\n",
            "67/67 [==============================] - 0s 4ms/step - loss: 0.2041 - accuracy: 0.8955 - val_loss: 1.4874 - val_accuracy: 0.4545\n",
            "Epoch 18/20\n",
            "67/67 [==============================] - 0s 4ms/step - loss: 0.1970 - accuracy: 0.9403 - val_loss: 1.6655 - val_accuracy: 0.4545\n",
            "Epoch 19/20\n",
            "67/67 [==============================] - 0s 4ms/step - loss: 0.2144 - accuracy: 0.9254 - val_loss: 1.5206 - val_accuracy: 0.3939\n",
            "Epoch 20/20\n",
            "67/67 [==============================] - 0s 4ms/step - loss: 0.3525 - accuracy: 0.8806 - val_loss: 1.6322 - val_accuracy: 0.3939\n"
          ]
        }
      ],
      "source": [
        "# Compile with your desired optimizer and loss function with 'accuracy' as metric\n",
        "# # Don't forget to monitor the overfitting, you should take care of val_accuracy and val_loss\n",
        "\n",
        "########################\n",
        "## PUT YOUR CODE HERE ##\n",
        "#\n",
        "# uncomment below and complete the code\n",
        "# history = \n",
        "########################\n",
        "\n",
        "model.compile(loss='binary_crossentropy',\n",
        "              optimizer='adam',\n",
        "              metrics=['accuracy'])\n",
        "\n",
        "history = model.fit(X_train, y_train,\n",
        "                    batch_size=1,\n",
        "                    epochs=20,\n",
        "                    validation_data=(X_test, y_test))\n"
      ]
    },
    {
      "cell_type": "markdown",
      "metadata": {
        "id": "zvpJ1i1dIq7y"
      },
      "source": [
        "### Plot results"
      ]
    },
    {
      "cell_type": "code",
      "execution_count": null,
      "metadata": {
        "colab": {
          "base_uri": "https://localhost:8080/",
          "height": 545
        },
        "id": "dWa9OX0HIq7y",
        "outputId": "379b0aa8-cef2-4367-d536-e79c42a1f30e"
      },
      "outputs": [
        {
          "output_type": "display_data",
          "data": {
            "text/plain": [
              "<Figure size 432x288 with 1 Axes>"
            ],
            "image/png": "[encoded data removed]"
          },
          "metadata": {
            "needs_background": "light"
          }
        },
        {
          "output_type": "display_data",
          "data": {
            "text/plain": [
              "<Figure size 432x288 with 1 Axes>"
            ],
            "image/png": "[encoded data removed]"
          },
          "metadata": {
            "needs_background": "light"
          }
        }
      ],
      "source": [
        "# Plot your data\n",
        "\n",
        "import matplotlib.pyplot as plt\n",
        "acc = history.history['accuracy']\n",
        "val_acc = history.history['val_accuracy']\n",
        "loss = history.history['loss']\n",
        "val_loss = history.history['val_loss']\n",
        "\n",
        "epochs = range(len(acc))\n",
        "\n",
        "plt.plot(epochs, acc, 'r', label='Training accuracy')\n",
        "plt.plot(epochs, val_acc, 'b', label='Validation accuracy')\n",
        "plt.title('Training and validation accuracy')\n",
        "plt.legend()\n",
        "\n",
        "plt.figure()\n",
        "\n",
        "plt.plot(epochs, loss, 'r', label='Training Loss')\n",
        "plt.plot(epochs, val_loss, 'b', label='Validation Loss')\n",
        "plt.title('Training and validation loss')\n",
        "plt.legend()\n",
        "\n",
        "plt.show()"
      ]
    },
    {
      "cell_type": "markdown",
      "metadata": {
        "id": "M-3uANdkIq7z"
      },
      "source": [
        "### Evaluate results"
      ]
    },
    {
      "cell_type": "code",
      "execution_count": null,
      "metadata": {
        "id": "_gEVe6iQIq7z",
        "colab": {
          "base_uri": "https://localhost:8080/"
        },
        "outputId": "9d594cd0-5fe0-4c3e-c2b5-df56a3427fda"
      },
      "outputs": [
        {
          "output_type": "stream",
          "name": "stdout",
          "text": [
            "2/2 [==============================] - 0s 11ms/step - loss: 1.6322 - accuracy: 0.3939\n"
          ]
        },
        {
          "output_type": "execute_result",
          "data": {
            "text/plain": [
              "[1.632162094116211, 0.39393940567970276]"
            ]
          },
          "metadata": {},
          "execution_count": 15
        }
      ],
      "source": [
        "# Evaluate your model on the test data\n",
        "\n",
        "\n",
        "########################\n",
        "## PUT YOUR CODE HERE ##\n",
        "########################\n",
        "model.evaluate(X_test, y_test)"
      ]
    },
    {
      "cell_type": "markdown",
      "metadata": {
        "id": "Uzytl_UQIq70"
      },
      "source": [
        "# Compare results with and without using agumentation\n",
        "### Now we need to do agumentation to create more images to help us overcome underfitting"
      ]
    },
    {
      "cell_type": "markdown",
      "metadata": {
        "id": "nBd4QFrJIq70"
      },
      "source": [
        "### Agumentation Methods\n",
        "Here you should do the agumentation methods to produce more images\n"
      ]
    },
    {
      "cell_type": "code",
      "execution_count": null,
      "metadata": {
        "id": "T6Y6_veDcNwt"
      },
      "outputs": [],
      "source": [
        "# In this cell you need to implement agumentation methods to increase our data\n",
        "# NOTICE! Only use libraries in CV2 or others, DON'T use KERAS and Pytorch!\n",
        "\n",
        "\n",
        "def fill(img, h, w):\n",
        "    ''' \n",
        "    we use this function to resize the shifted image and fill border pixles with different methods\n",
        "    \n",
        "    arguments \n",
        "    input img: a Numpy ndarray from any size of h * w * ch\n",
        "          h: an integer defining the height of target image\n",
        "          w: an integer defining the width of target image\n",
        "    \n",
        "    output: resized and interpolated image \n",
        "\n",
        "    '''\n",
        "        \n",
        "    img = cv2.resize(img, (h, w), cv2.INTER_CUBIC)\n",
        "    return img\n",
        "\n",
        "\n",
        "def horizontal_shift(img, ratio=0.5):\n",
        "\n",
        "    ''' \n",
        "    we use this function to shift the image horizontally with the given ratio\n",
        "    width_target = width_input - ratio * width_input\n",
        "    \n",
        "    Hint: select ratio in range (-ratio to ratio) uniformly, to simulate horizontally shift to right and left with different ratios\n",
        "\n",
        "\n",
        "    arguments \n",
        "    input img: a Numpy ndarray from any size of h * w * ch\n",
        "          ratio: a float number between 0 and 1\n",
        "    \n",
        "    output: resized and interpolated image \n",
        "\n",
        "    '''\n",
        "    \n",
        "    if ratio > 1 or ratio < 0:\n",
        "        print('Value should be less than 1 and greater than 0')\n",
        "        return img\n",
        "    ratio = random.uniform(-ratio, ratio) # you can change this\n",
        "    h, w = img.shape[:2]\n",
        "    to_shift = w*ratio\n",
        "    if ratio > 0:\n",
        "        img = img[:, :int(w-to_shift), :]\n",
        "    if ratio < 0:\n",
        "        img = img[:, int(-1*to_shift):, :]\n",
        "\n",
        "    img = fill(img, h, w) # fill image borders\n",
        "\n",
        "    return img\n"
      ]
    },
    {
      "cell_type": "code",
      "execution_count": null,
      "metadata": {
        "id": "cmDF6i2kdKli"
      },
      "outputs": [],
      "source": [
        "    \n",
        "def vertical_shift(img, ratio=0.5):\n",
        "\n",
        "    ''' \n",
        "    we use this function to shift the image vertically with the given ratio\n",
        "    width_target = width_input - ratio * width_input\n",
        "    \n",
        "    Hint: select ratio in range (-ratio to ratio) uniformly, to simulate vertically shift to up and down with different ratios\n",
        "\n",
        "\n",
        "    arguments \n",
        "    input img: a Numpy ndarray from any size of h * w * ch\n",
        "          ratio: a float number between 0 and 1\n",
        "    \n",
        "    output: resized and interpolated image \n",
        "\n",
        "    '''\n",
        "\n",
        "    if ratio > 1 or ratio < 0:\n",
        "        print('Value should be less than 1 and greater than 0')\n",
        "        return img\n",
        "    ratio = random.uniform(-ratio, ratio)\n",
        "    h, w = img.shape[:2]\n",
        "    to_shift = h*ratio\n",
        "    if ratio > 0:\n",
        "        img = img[:int(h-to_shift), :, :]\n",
        "    if ratio < 0:\n",
        "        img = img[int(-1*to_shift):, :, :]\n",
        "        \n",
        "    img = fill(img, h, w)\n",
        "\n",
        "    return img\n",
        "\n"
      ]
    },
    {
      "cell_type": "code",
      "execution_count": null,
      "metadata": {
        "id": "pJ31WDBQdNhz"
      },
      "outputs": [],
      "source": [
        "def brightness(img, low, high):\n",
        "\n",
        "    ''' \n",
        "    we use this function to change the brightness of the image with given high and low values\n",
        "    \n",
        "    Hint: first convert to HSV color domain, Next make your image brighter or darker then convert back to BGR\n",
        "\n",
        "    arguments \n",
        "    input img: a Numpy ndarray from any size of h * w * ch\n",
        "          low:\n",
        "          high:\n",
        "    \n",
        "    output: image with different brightness\n",
        "\n",
        "    '''\n",
        "\n",
        "    value = random.uniform(low, high)\n",
        "    hsv = cv2.cvtColor(img, cv2.COLOR_BGR2HSV)\n",
        "    hsv = np.array(hsv, dtype = np.float64)\n",
        "    hsv[:,:,1] = hsv[:,:,1]*value\n",
        "    hsv[:,:,1][hsv[:,:,1]>255]  = 255\n",
        "    hsv[:,:,2] = hsv[:,:,2]*value \n",
        "    hsv[:,:,2][hsv[:,:,2]>255]  = 255\n",
        "    hsv = np.array(hsv, dtype = np.uint8)\n",
        "    img = cv2.cvtColor(hsv, cv2.COLOR_HSV2BGR)\n",
        "    \n",
        "    return img"
      ]
    },
    {
      "cell_type": "code",
      "execution_count": null,
      "metadata": {
        "id": "buuw_F7Bdaq-"
      },
      "outputs": [],
      "source": [
        "\n",
        "def zoom(img, value):\n",
        "\n",
        "    ''' \n",
        "    we use this function to zoom the image with given value\n",
        "    \n",
        "    arguments \n",
        "    input img: a Numpy ndarray from any size of h * w * ch\n",
        "          value: an integer number indicating the zoom effect\n",
        "    \n",
        "    output: zoomed image\n",
        "\n",
        "    '''\n",
        "    \n",
        "    if value > 1 or value < 0:\n",
        "        print('Value for zoom should be less than 1 and greater than 0')\n",
        "        return img\n",
        "    value = random.uniform(value, 1)\n",
        "    h, w = img.shape[:2]\n",
        "    h_taken = int(value*h)\n",
        "    w_taken = int(value*w)\n",
        "    h_start = random.randint(0, h-h_taken)\n",
        "    w_start = random.randint(0, w-w_taken)\n",
        "    img = img[h_start:h_start+h_taken, w_start:w_start+w_taken, :]\n",
        "    \n",
        "    img = fill(img, h, w)\n",
        "\n",
        "    return img"
      ]
    },
    {
      "cell_type": "code",
      "execution_count": null,
      "metadata": {
        "id": "dRQTWQiYde3-"
      },
      "outputs": [],
      "source": [
        "def channel_shift(img, value):\n",
        "\n",
        "    ''' \n",
        "    we use this function to shift color channels to play with colors in the image\n",
        "    \n",
        "    arguments \n",
        "    input img: a Numpy ndarray from any size of h * w * ch\n",
        "          value: an integer number indicating the color change effect\n",
        "    \n",
        "    output: image with changed colors\n",
        "\n",
        "    '''\n",
        "    \n",
        "    value = int(random.uniform(-value, value))\n",
        "    img = img + value\n",
        "    img[:,:,:][img[:,:,:]>255]  = 255\n",
        "    img[:,:,:][img[:,:,:]<0]  = 0\n",
        "    img = img.astype(np.uint8)\n",
        "    \n",
        "    return img"
      ]
    },
    {
      "cell_type": "code",
      "execution_count": null,
      "metadata": {
        "id": "-8fUbL8odizd"
      },
      "outputs": [],
      "source": [
        "def horizontal_flip(img):\n",
        "\n",
        "    ''' \n",
        "    we use this function to flip the image horizontally\n",
        "\n",
        "    arguments \n",
        "    input img: a Numpy ndarray from any size of h * w * ch\n",
        "    \n",
        "    output: horizontally fliped image\n",
        "\n",
        "    '''\n",
        "\n",
        "    return cv2.flip(img, 1)\n"
      ]
    },
    {
      "cell_type": "code",
      "execution_count": null,
      "metadata": {
        "id": "_oXvmff4dtd7"
      },
      "outputs": [],
      "source": [
        "def vertical_flip(img):\n",
        "\n",
        "    ''' \n",
        "    we use this function to flip the image vertically\n",
        "    \n",
        "    arguments \n",
        "    input img: a Numpy ndarray from any size of h * w * ch\n",
        "    \n",
        "    output: vertically fliped image\n",
        "\n",
        "    '''\n",
        "    \n",
        "    return cv2.flip(img, 0)\n"
      ]
    },
    {
      "cell_type": "markdown",
      "metadata": {
        "id": "6USx2w81Iq74"
      },
      "source": [
        "### Prepare your dataset"
      ]
    },
    {
      "cell_type": "code",
      "execution_count": null,
      "metadata": {
        "id": "AiAQnha9dwJ8"
      },
      "outputs": [],
      "source": [
        "# For each image in our dataset run the previous methods and create a new dataset\n",
        "\n",
        "    ########################\n",
        "    ## PUT YOUR CODE HERE ##\n",
        "    ########################\n",
        "data_num = 100 * 8\n",
        "X = np.zeros((data_num, height, width, 3)).astype(np.uint8)\n",
        "y = np.zeros((data_num,)).astype(np.uint8)\n",
        "\n",
        "for path in glob.glob('data_aug/*'):\n",
        "    img = cv2.imread(path)\n",
        "    augmented_data = []\n",
        "    augmented_data.append(horizontal_shift(img))\n",
        "    augmented_data.append(vertical_shift(img))\n",
        "    augmented_data.append(brightness(img, 0, 10))\n",
        "    augmented_data.append(zoom(img, 0.5))\n",
        "    augmented_data.append(channel_shift(img, 20))\n",
        "    augmented_data.append(horizontal_flip(img))\n",
        "    augmented_data.append(vertical_flip(img))\n",
        "    for i, im in enumerate(augmented_data):\n",
        "        cv2.imwrite(f\"data_aug/{i}{path.split('/')[1]}\", im)\n",
        "\n",
        "for i, path in enumerate(glob.glob('data_aug/*')):\n",
        "    img = cv2.imread(path)\n",
        "    img = cv2.cvtColor(img, cv2.COLOR_BGR2RGB)\n",
        "    X[i] = cv2.resize(img, (height, width))\n",
        "    if 'cat' in path:\n",
        "        y[i] = 0\n",
        "    else:\n",
        "        y[i] = 1"
      ]
    },
    {
      "cell_type": "code",
      "execution_count": null,
      "metadata": {
        "id": "Iglyft2FIq74"
      },
      "outputs": [],
      "source": [
        "# Normalize your dataset in a way to have a image dataset with pixles in range (0 to 1)\n",
        "\n",
        "########################\n",
        "## PUT YOUR CODE HERE ##\n",
        "########################\n",
        "\n",
        "X = X/255"
      ]
    },
    {
      "cell_type": "code",
      "execution_count": null,
      "metadata": {
        "id": "eACg4ZnXIq75"
      },
      "outputs": [],
      "source": [
        "# Resize your images to (28 * 28)\n",
        "\n",
        "\n",
        "########################\n",
        "## PUT YOUR CODE HERE ##\n",
        "########################\n",
        "\n",
        "# already done"
      ]
    },
    {
      "cell_type": "code",
      "execution_count": null,
      "metadata": {
        "id": "DL9Wg1e0Iq75"
      },
      "outputs": [],
      "source": [
        "# Flatten your dataset images \n",
        "\n",
        "\n",
        "########################\n",
        "## PUT YOUR CODE HERE ##\n",
        "########################\n",
        "X = X.reshape((800, 28 * 28 * 3))\n",
        "y = y.reshape((800, 1))"
      ]
    },
    {
      "cell_type": "code",
      "execution_count": null,
      "metadata": {
        "id": "HF5_7CO8Iq75"
      },
      "outputs": [],
      "source": [
        "# Check your dataset and labels to be a numpy ndarray of sizes (800, 28 * 28 * 3) and (800, 1) respectively.\n",
        "\n",
        "\n",
        "########################\n",
        "## PUT YOUR CODE HERE ##\n",
        "########################\n",
        "assert X.shape == (800, 28 * 28 * 3)\n",
        "assert y.shape == (800, 1)"
      ]
    },
    {
      "cell_type": "markdown",
      "metadata": {
        "id": "SawFj3ntIq75"
      },
      "source": [
        "### Create your model"
      ]
    },
    {
      "cell_type": "code",
      "execution_count": null,
      "metadata": {
        "id": "BR8lzCAzIq76",
        "colab": {
          "base_uri": "https://localhost:8080/"
        },
        "outputId": "46de6938-42a8-4957-eb43-960d78048051"
      },
      "outputs": [
        {
          "output_type": "stream",
          "name": "stdout",
          "text": [
            "Model: \"sequential_3\"\n",
            "_________________________________________________________________\n",
            " Layer (type)                Output Shape              Param #   \n",
            "=================================================================\n",
            " dense_9 (Dense)             (None, 128)               301184    \n",
            "                                                                 \n",
            " dense_10 (Dense)            (None, 64)                8256      \n",
            "                                                                 \n",
            " dense_11 (Dense)            (None, 1)                 65        \n",
            "                                                                 \n",
            "=================================================================\n",
            "Total params: 309,505\n",
            "Trainable params: 309,505\n",
            "Non-trainable params: 0\n",
            "_________________________________________________________________\n"
          ]
        }
      ],
      "source": [
        "# create a simple model of Keras MLP with desired number of dense layers and units and activation function\n",
        "# don't forget to shuffle the data\n",
        "# this is a binary classification problem\n",
        "\n",
        "\n",
        "\n",
        "########################\n",
        "## PUT YOUR CODE HERE ##\n",
        "########################\n",
        "\n",
        "model2 = Sequential()\n",
        "model2.add(Dense(128, activation='relu', input_shape=X[0].shape))\n",
        "model2.add(Dense(64, activation='relu'))\n",
        "model2.add(Dense(1, activation='sigmoid'))\n",
        "\n",
        "model2.summary()"
      ]
    },
    {
      "cell_type": "code",
      "execution_count": null,
      "metadata": {
        "id": "atonZLTyIq76"
      },
      "outputs": [],
      "source": [
        "# Split your dataset to test and train with the desired implementation\n",
        "# use sklearn.model_selection.train_test_split\n",
        "\n",
        "\n",
        "########################\n",
        "## PUT YOUR CODE HERE ##\n",
        "########################\n",
        "\n",
        "from sklearn.model_selection import train_test_split\n",
        "\n",
        "X_train, X_test, y_train, y_test = train_test_split(X, y, test_size=0.33, random_state=42)"
      ]
    },
    {
      "cell_type": "code",
      "execution_count": null,
      "metadata": {
        "id": "LxThPU0RIq76",
        "colab": {
          "base_uri": "https://localhost:8080/"
        },
        "outputId": "c02b7889-f36a-41e8-d63a-0de0d5a558f4"
      },
      "outputs": [
        {
          "output_type": "stream",
          "name": "stdout",
          "text": [
            "Epoch 1/20\n",
            "17/17 [==============================] - 1s 15ms/step - loss: 73.7328 - accuracy: 0.5131 - val_loss: 19.3535 - val_accuracy: 0.4962\n",
            "Epoch 2/20\n",
            "17/17 [==============================] - 0s 7ms/step - loss: 11.6012 - accuracy: 0.5765 - val_loss: 10.7381 - val_accuracy: 0.5227\n",
            "Epoch 3/20\n",
            "17/17 [==============================] - 0s 7ms/step - loss: 9.0261 - accuracy: 0.5728 - val_loss: 9.6151 - val_accuracy: 0.5492\n",
            "Epoch 4/20\n",
            "17/17 [==============================] - 0s 6ms/step - loss: 7.6808 - accuracy: 0.5951 - val_loss: 15.2763 - val_accuracy: 0.5341\n",
            "Epoch 5/20\n",
            "17/17 [==============================] - 0s 6ms/step - loss: 5.9873 - accuracy: 0.6157 - val_loss: 13.9462 - val_accuracy: 0.5000\n",
            "Epoch 6/20\n",
            "17/17 [==============================] - 0s 7ms/step - loss: 6.1274 - accuracy: 0.6175 - val_loss: 3.6410 - val_accuracy: 0.6515\n",
            "Epoch 7/20\n",
            "17/17 [==============================] - 0s 6ms/step - loss: 3.0182 - accuracy: 0.6716 - val_loss: 3.5675 - val_accuracy: 0.6364\n",
            "Epoch 8/20\n",
            "17/17 [==============================] - 0s 7ms/step - loss: 4.4574 - accuracy: 0.6455 - val_loss: 14.9805 - val_accuracy: 0.4962\n",
            "Epoch 9/20\n",
            "17/17 [==============================] - 0s 6ms/step - loss: 6.2777 - accuracy: 0.6175 - val_loss: 4.5869 - val_accuracy: 0.6212\n",
            "Epoch 10/20\n",
            "17/17 [==============================] - 0s 7ms/step - loss: 4.2089 - accuracy: 0.6567 - val_loss: 5.9980 - val_accuracy: 0.5985\n",
            "Epoch 11/20\n",
            "17/17 [==============================] - 0s 7ms/step - loss: 3.2127 - accuracy: 0.7108 - val_loss: 3.4803 - val_accuracy: 0.6742\n",
            "Epoch 12/20\n",
            "17/17 [==============================] - 0s 7ms/step - loss: 4.0168 - accuracy: 0.6679 - val_loss: 4.6661 - val_accuracy: 0.6174\n",
            "Epoch 13/20\n",
            "17/17 [==============================] - 0s 7ms/step - loss: 4.4939 - accuracy: 0.6493 - val_loss: 3.1834 - val_accuracy: 0.6174\n",
            "Epoch 14/20\n",
            "17/17 [==============================] - 0s 7ms/step - loss: 3.2474 - accuracy: 0.6847 - val_loss: 3.8798 - val_accuracy: 0.6780\n",
            "Epoch 15/20\n",
            "17/17 [==============================] - 0s 6ms/step - loss: 2.2775 - accuracy: 0.7687 - val_loss: 4.5098 - val_accuracy: 0.6288\n",
            "Epoch 16/20\n",
            "17/17 [==============================] - 0s 6ms/step - loss: 2.5661 - accuracy: 0.7351 - val_loss: 3.0037 - val_accuracy: 0.6856\n",
            "Epoch 17/20\n",
            "17/17 [==============================] - 0s 6ms/step - loss: 0.9355 - accuracy: 0.8563 - val_loss: 2.6334 - val_accuracy: 0.7197\n",
            "Epoch 18/20\n",
            "17/17 [==============================] - 0s 6ms/step - loss: 1.3350 - accuracy: 0.7985 - val_loss: 2.5730 - val_accuracy: 0.7083\n",
            "Epoch 19/20\n",
            "17/17 [==============================] - 0s 6ms/step - loss: 0.9135 - accuracy: 0.8507 - val_loss: 2.8868 - val_accuracy: 0.6780\n",
            "Epoch 20/20\n",
            "17/17 [==============================] - 0s 7ms/step - loss: 1.8498 - accuracy: 0.7705 - val_loss: 3.4295 - val_accuracy: 0.6402\n"
          ]
        }
      ],
      "source": [
        "# Compile your model to introduce loss function optimizer and metrices to monitor accuracy metric and train on the data\n",
        "# Don't forget to monitor the overfitting, you should take care of val_accuracy and val_loss\n",
        "\n",
        "########################\n",
        "## PUT YOUR CODE HERE ##\n",
        "#\n",
        "# uncomment below and complete the code\n",
        "# history = \n",
        "########################\n",
        "\n",
        "model2.compile(loss='binary_crossentropy',\n",
        "              optimizer='adam',\n",
        "              metrics=['accuracy'])\n",
        "\n",
        "history = model2.fit(X_train, y_train,\n",
        "                    batch_size=32,\n",
        "                    epochs=20,\n",
        "                    validation_data=(X_test, y_test))\n",
        "\n"
      ]
    },
    {
      "cell_type": "markdown",
      "metadata": {
        "id": "GOLmdy_MIq76"
      },
      "source": [
        "### Plot your results"
      ]
    },
    {
      "cell_type": "code",
      "execution_count": null,
      "metadata": {
        "id": "TAjdClGdIq76",
        "colab": {
          "base_uri": "https://localhost:8080/",
          "height": 545
        },
        "outputId": "9139bf78-bb70-472e-bf1a-190ae8219239"
      },
      "outputs": [
        {
          "output_type": "display_data",
          "data": {
            "text/plain": [
              "<Figure size 432x288 with 1 Axes>"
            ],
            "image/png": "[encoded data removed]"
          },
          "metadata": {
            "needs_background": "light"
          }
        },
        {
          "output_type": "display_data",
          "data": {
            "text/plain": [
              "<Figure size 432x288 with 1 Axes>"
            ],
            "image/png": "[encoded data removed]"
          },
          "metadata": {
            "needs_background": "light"
          }
        }
      ],
      "source": [
        "# Plot your data\n",
        "\n",
        "import matplotlib.pyplot as plt\n",
        "acc = history.history['accuracy']\n",
        "val_acc = history.history['val_accuracy']\n",
        "loss = history.history['loss']\n",
        "val_loss = history.history['val_loss']\n",
        "\n",
        "epochs = range(len(acc))\n",
        "\n",
        "plt.plot(epochs, acc, 'r', label='Training accuracy')\n",
        "plt.plot(epochs, val_acc, 'b', label='Validation accuracy')\n",
        "plt.title('Training and validation accuracy')\n",
        "plt.legend()\n",
        "\n",
        "plt.figure()\n",
        "\n",
        "plt.plot(epochs, loss, 'r', label='Training Loss')\n",
        "plt.plot(epochs, val_loss, 'b', label='Validation Loss')\n",
        "plt.title('Training and validation loss')\n",
        "plt.legend()\n",
        "\n",
        "plt.show()"
      ]
    },
    {
      "cell_type": "markdown",
      "metadata": {
        "id": "Wqqnw9gmIq77"
      },
      "source": [
        "### Evaluate results"
      ]
    },
    {
      "cell_type": "code",
      "execution_count": null,
      "metadata": {
        "id": "kXBn0CjqIq77",
        "colab": {
          "base_uri": "https://localhost:8080/"
        },
        "outputId": "6eabfa45-94c3-47ec-c631-5059cfd792bb"
      },
      "outputs": [
        {
          "output_type": "stream",
          "name": "stdout",
          "text": [
            "9/9 [==============================] - 0s 3ms/step - loss: 3.4295 - accuracy: 0.6402\n"
          ]
        },
        {
          "output_type": "execute_result",
          "data": {
            "text/plain": [
              "[3.4295058250427246, 0.6401515007019043]"
            ]
          },
          "metadata": {},
          "execution_count": 44
        }
      ],
      "source": [
        "# Evaluate your model on the test data\n",
        "\n",
        "\n",
        "########################\n",
        "## PUT YOUR CODE HERE ##\n",
        "########################\n",
        "model2.evaluate(X_test, y_test)"
      ]
    },
    {
      "cell_type": "markdown",
      "metadata": {
        "id": "cV9_YlpIIq77"
      },
      "source": [
        "# Compare your results with and without using agumentation to see the difference"
      ]
    },
    {
      "cell_type": "markdown",
      "metadata": {
        "id": "0BAQw9RtIq77"
      },
      "source": [
        "## Optional Bonus Activity"
      ]
    },
    {
      "cell_type": "code",
      "execution_count": null,
      "metadata": {
        "id": "VuifPrHPm40L"
      },
      "outputs": [],
      "source": [
        "# Optional\n",
        "\n",
        "# Keras data Augmentation\n",
        "\n",
        "#use the bellow links\n",
        "\n",
        "# https://keras.io/guides/keras_cv/custom_image_augmentations/\n",
        "\n",
        "# https://keras.io/api/preprocessing/image/\n"
      ]
    }
  ],
  "metadata": {
    "colab": {
      "provenance": [],
      "toc_visible": true
    },
    "kernelspec": {
      "display_name": "Python 3.8.10 64-bit",
      "language": "python",
      "name": "python3"
    },
    "language_info": {
      "codemirror_mode": {
        "name": "ipython",
        "version": 3
      },
      "file_extension": ".py",
      "mimetype": "text/x-python",
      "name": "python",
      "nbconvert_exporter": "python",
      "pygments_lexer": "ipython3",
      "version": "3.8.10"
    },
    "vscode": {
      "interpreter": {
        "hash": "2f6cb3ea01974f76814b5d49020240389a14f3050952099f601c26f7643ccab4"
      }
    }
  },
  "nbformat": 4,
  "nbformat_minor": 0
}