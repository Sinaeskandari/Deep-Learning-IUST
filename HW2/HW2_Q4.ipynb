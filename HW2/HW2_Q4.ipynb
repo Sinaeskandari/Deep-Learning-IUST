{
  "nbformat": 4,
  "nbformat_minor": 0,
  "metadata": {
    "accelerator": "GPU",
    "colab": {
      "provenance": [],
      "collapsed_sections": [
        "GrFpZXNQB9FW"
      ],
      "toc_visible": true
    },
    "kernelspec": {
      "name": "python3",
      "display_name": "Python 3"
    },
    "gpuClass": "standard"
  },
  "cells": [
    {
      "cell_type": "markdown",
      "metadata": {
        "id": "GrFpZXNQB9FW"
      },
      "source": [
        "#### Copyright 2018 Google LLC."
      ]
    },
    {
      "cell_type": "code",
      "metadata": {
        "id": "43_9Kh8LCDPK"
      },
      "source": [
        "# Licensed under the Apache License, Version 2.0 (the \"License\");\n",
        "# you may not use this file except in compliance with the License.\n",
        "# You may obtain a copy of the License at\n",
        "#\n",
        "# https://www.apache.org/licenses/LICENSE-2.0\n",
        "#\n",
        "# Unless required by applicable law or agreed to in writing, software\n",
        "# distributed under the License is distributed on an \"AS IS\" BASIS,\n",
        "# WITHOUT WARRANTIES OR CONDITIONS OF ANY KIND, either express or implied.\n",
        "# See the License for the specific language governing permissions and\n",
        "# limitations under the License."
      ],
      "execution_count": 1,
      "outputs": []
    },
    {
      "cell_type": "markdown",
      "metadata": {
        "id": "YHK6DyunSbs4"
      },
      "source": [
        "# Cat vs. Dog Image Classification\n"
      ]
    },
    {
      "cell_type": "code",
      "metadata": {
        "id": "xvnAdS6YFTQZ"
      },
      "source": [
        "## Set These Parameters\n",
        "last_layer_neurons = 1\n",
        "last_layer_activation = 'sigmoid'\n",
        "loss_function = 'binary_crossentropy'"
      ],
      "execution_count": 2,
      "outputs": []
    },
    {
      "cell_type": "code",
      "metadata": {
        "id": "XK-IN_zNgLlT"
      },
      "source": [
        "from tensorflow.keras.preprocessing.image import ImageDataGenerator\n",
        "\n",
        "datagen = ImageDataGenerator(\n",
        "      rotation_range=40,\n",
        "      width_shift_range=0.2,\n",
        "      height_shift_range=0.2,\n",
        "      shear_range=0.2,\n",
        "      zoom_range=0.2,\n",
        "      horizontal_flip=True,\n",
        "      fill_mode='nearest')"
      ],
      "execution_count": 3,
      "outputs": []
    },
    {
      "cell_type": "code",
      "metadata": {
        "id": "dhztKtUSFMXp",
        "colab": {
          "base_uri": "https://localhost:8080/"
        },
        "outputId": "3b2b51fd-a89d-48f9-f880-998412852060"
      },
      "source": [
        "!wget --no-check-certificate \\\n",
        "   https://storage.googleapis.com/mledu-datasets/cats_and_dogs_filtered.zip -O \\\n",
        "   /tmp/cats_and_dogs_filtered.zip"
      ],
      "execution_count": 4,
      "outputs": [
        {
          "output_type": "stream",
          "name": "stdout",
          "text": [
            "--2022-11-05 19:35:33--  https://storage.googleapis.com/mledu-datasets/cats_and_dogs_filtered.zip\n",
            "Resolving storage.googleapis.com (storage.googleapis.com)... 74.125.200.128, 142.250.4.128, 74.125.24.128, ...\n",
            "Connecting to storage.googleapis.com (storage.googleapis.com)|74.125.200.128|:443... connected.\n",
            "HTTP request sent, awaiting response... 200 OK\n",
            "Length: 68606236 (65M) [application/zip]\n",
            "Saving to: ‘/tmp/cats_and_dogs_filtered.zip’\n",
            "\n",
            "/tmp/cats_and_dogs_ 100%[===================>]  65.43M  20.5MB/s    in 3.9s    \n",
            "\n",
            "2022-11-05 19:35:37 (17.0 MB/s) - ‘/tmp/cats_and_dogs_filtered.zip’ saved [68606236/68606236]\n",
            "\n"
          ]
        }
      ]
    },
    {
      "cell_type": "code",
      "metadata": {
        "id": "LWkSRoJRfvGL"
      },
      "source": [
        "import os\n",
        "import zipfile\n",
        "\n",
        "local_zip = '/tmp/cats_and_dogs_filtered.zip'\n",
        "zip_ref = zipfile.ZipFile(local_zip, 'r')\n",
        "zip_ref.extractall('/tmp')\n",
        "zip_ref.close()\n",
        "  \n",
        "base_dir = '/tmp/cats_and_dogs_filtered'\n",
        "train_dir = os.path.join(base_dir, 'train')\n",
        "validation_dir = os.path.join(base_dir, 'validation')\n",
        "\n",
        "# Directory with our training cat pictures\n",
        "train_cats_dir = os.path.join(train_dir, 'cats')\n",
        "\n",
        "# Directory with our training dog pictures\n",
        "train_dogs_dir = os.path.join(train_dir, 'dogs')\n",
        "\n",
        "# Directory with our validation cat pictures\n",
        "validation_cats_dir = os.path.join(validation_dir, 'cats')\n",
        "\n",
        "# Directory with our validation dog pictures\n",
        "validation_dogs_dir = os.path.join(validation_dir, 'dogs')\n",
        "\n",
        "train_cat_fnames = os.listdir(train_cats_dir)\n",
        "train_dog_fnames = os.listdir(train_dogs_dir)"
      ],
      "execution_count": 5,
      "outputs": []
    },
    {
      "cell_type": "markdown",
      "metadata": {
        "id": "02r1oXaegECk"
      },
      "source": [
        "Next, let's apply the `datagen` transformations to a cat image from the training set to produce five random variants. Rerun the cell a few times to see fresh batches of random variants."
      ]
    },
    {
      "cell_type": "code",
      "metadata": {
        "id": "e8HgwcAbmdcu",
        "colab": {
          "base_uri": "https://localhost:8080/"
        },
        "outputId": "6612ea7c-df4f-45b0-b253-802dc413043e"
      },
      "source": [
        "# Adding rescale, rotation_range, width_shift_range, height_shift_range,\n",
        "# shear_range, zoom_range, and horizontal flip to our ImageDataGenerator\n",
        "train_datagen = ImageDataGenerator(\n",
        "    rescale=1./255,\n",
        "    rotation_range=20,\n",
        "    width_shift_range=0.1,\n",
        "    height_shift_range=0.1,\n",
        "    # shear_range=0.2,\n",
        "    # zoom_range=0.2,\n",
        "    horizontal_flip=True,)\n",
        "\n",
        "# Note that the validation data should not be augmented!\n",
        "val_datagen = ImageDataGenerator(rescale=1./255)\n",
        "\n",
        "#\n",
        "class_mode = 'binary' if last_layer_neurons == 1 else 'categorical'\n",
        "\n",
        "# Flow training images in batches of 32 using train_datagen generator\n",
        "train_generator = train_datagen.flow_from_directory(\n",
        "        train_dir,  # This is the source directory for training images\n",
        "        target_size=(150, 150),  # All images will be resized to 150x150\n",
        "        batch_size=20,\n",
        "        # Since we use binary_crossentropy loss, we need binary labels\n",
        "        class_mode=class_mode)\n",
        "\n",
        "# Flow validation images in batches of 32 using val_datagen generator\n",
        "validation_generator = val_datagen.flow_from_directory(\n",
        "        validation_dir,\n",
        "        target_size=(150, 150),\n",
        "        batch_size=20,\n",
        "        class_mode=class_mode)"
      ],
      "execution_count": 6,
      "outputs": [
        {
          "output_type": "stream",
          "name": "stdout",
          "text": [
            "Found 2000 images belonging to 2 classes.\n",
            "Found 1000 images belonging to 2 classes.\n"
          ]
        }
      ]
    },
    {
      "cell_type": "markdown",
      "metadata": {
        "id": "K-3PrfDwDJjB"
      },
      "source": [
        "If we train a new network using this data augmentation configuration, our network will never see the same input twice. However the inputs that it sees are still heavily intercorrelated, so this might not be quite enough to completely get rid of overfitting."
      ]
    },
    {
      "cell_type": "markdown",
      "metadata": {
        "id": "lYguAfH3gyv6"
      },
      "source": [
        "## Building a Small ConvNet\n"
      ]
    },
    {
      "cell_type": "code",
      "metadata": {
        "id": "SVC4FgxiDje6",
        "colab": {
          "base_uri": "https://localhost:8080/"
        },
        "outputId": "f13a9ce0-16f1-43ca-d61c-1d37c85892de"
      },
      "source": [
        "from tensorflow.keras import layers\n",
        "from tensorflow.keras import Model\n",
        "from tensorflow.keras import optimizers\n",
        "\n",
        "# Our input feature map is 150x150x3: 150x150 for the image pixels, and 3 for\n",
        "# the three color channels: R, G, and B\n",
        "img_input = layers.Input(shape=(150, 150, 3))\n",
        "\n",
        "# First convolution extracts 32 filters that are 3x3\n",
        "# Convolution is followed by max-pooling layer with a 2x2 window\n",
        "x = layers.Conv2D(32, 3, activation='relu')(img_input) \n",
        "x = layers.MaxPooling2D(2)(x)\n",
        "\n",
        "# Second convolution extracts 64 filters that are 3x3\n",
        "# Convolution is followed by max-pooling layer with a 2x2 window\n",
        "x = layers.Conv2D(64, 3, activation='relu')(x) \n",
        "x = layers.MaxPooling2D(2)(x)\n",
        "\n",
        "# Third convolution extracts 128 filters that are 3x3\n",
        "# Convolution is followed by max-pooling layer with a 2x2 window\n",
        "x = layers.Convolution2D(128, 3, activation='relu')(x) \n",
        "x = layers.MaxPooling2D(2)(x)\n",
        "\n",
        "# Flatten feature map to a 1-dim tensor\n",
        "x = layers.Flatten()(x)\n",
        "\n",
        "# Create a fully connected layer with ReLU activation and 512 hidden units\n",
        "x = layers.Dense(512, activation='relu')(x) \n",
        "\n",
        "# Add a dropout rate of 0.5\n",
        "x = layers.Dropout(0.2)(x)\n",
        "\n",
        "# add output layer\n",
        "output = layers.Dense(last_layer_neurons, activation=last_layer_activation)(x)\n",
        "\n",
        "# Configure and compile the model\n",
        "model = Model(img_input, output)\n",
        "model.compile(loss=loss_function,\n",
        "              optimizer=optimizers.RMSprop(lr=1e-3),\n",
        "              metrics=['acc'])"
      ],
      "execution_count": 7,
      "outputs": [
        {
          "output_type": "stream",
          "name": "stderr",
          "text": [
            "/usr/local/lib/python3.7/dist-packages/keras/optimizers/optimizer_v2/rmsprop.py:135: UserWarning: The `lr` argument is deprecated, use `learning_rate` instead.\n",
            "  super(RMSprop, self).__init__(name, **kwargs)\n"
          ]
        }
      ]
    },
    {
      "cell_type": "code",
      "metadata": {
        "cellView": "code",
        "id": "SdW6geEVi2S8",
        "colab": {
          "base_uri": "https://localhost:8080/"
        },
        "outputId": "cd96191e-9578-4d46-fdd4-8a9e762c50f7"
      },
      "source": [
        "history = model.fit(\n",
        "      train_generator,\n",
        "      epochs=50,\n",
        "      validation_data=validation_generator,\n",
        "      verbose=1)"
      ],
      "execution_count": 8,
      "outputs": [
        {
          "output_type": "stream",
          "name": "stdout",
          "text": [
            "Epoch 1/50\n",
            "100/100 [==============================] - 26s 170ms/step - loss: 1.0517 - acc: 0.5320 - val_loss: 0.7808 - val_acc: 0.5040\n",
            "Epoch 2/50\n",
            "100/100 [==============================] - 17s 172ms/step - loss: 0.6865 - acc: 0.5945 - val_loss: 0.6428 - val_acc: 0.6050\n",
            "Epoch 3/50\n",
            "100/100 [==============================] - 17s 175ms/step - loss: 0.6332 - acc: 0.6540 - val_loss: 0.6802 - val_acc: 0.5950\n",
            "Epoch 4/50\n",
            "100/100 [==============================] - 17s 171ms/step - loss: 0.6202 - acc: 0.6575 - val_loss: 0.5646 - val_acc: 0.7000\n",
            "Epoch 5/50\n",
            "100/100 [==============================] - 17s 170ms/step - loss: 0.6041 - acc: 0.6865 - val_loss: 0.5735 - val_acc: 0.7080\n",
            "Epoch 6/50\n",
            "100/100 [==============================] - 17s 172ms/step - loss: 0.5879 - acc: 0.6990 - val_loss: 0.5335 - val_acc: 0.7320\n",
            "Epoch 7/50\n",
            "100/100 [==============================] - 17s 169ms/step - loss: 0.5754 - acc: 0.7005 - val_loss: 0.6246 - val_acc: 0.6890\n",
            "Epoch 8/50\n",
            "100/100 [==============================] - 17s 170ms/step - loss: 0.5834 - acc: 0.7085 - val_loss: 0.5939 - val_acc: 0.6820\n",
            "Epoch 9/50\n",
            "100/100 [==============================] - 17s 169ms/step - loss: 0.5476 - acc: 0.7310 - val_loss: 0.5371 - val_acc: 0.7330\n",
            "Epoch 10/50\n",
            "100/100 [==============================] - 17s 169ms/step - loss: 0.5330 - acc: 0.7440 - val_loss: 0.5602 - val_acc: 0.7290\n",
            "Epoch 11/50\n",
            "100/100 [==============================] - 17s 169ms/step - loss: 0.5312 - acc: 0.7410 - val_loss: 0.5211 - val_acc: 0.7560\n",
            "Epoch 12/50\n",
            "100/100 [==============================] - 19s 189ms/step - loss: 0.5280 - acc: 0.7430 - val_loss: 0.5249 - val_acc: 0.7520\n",
            "Epoch 13/50\n",
            "100/100 [==============================] - 17s 173ms/step - loss: 0.5122 - acc: 0.7555 - val_loss: 0.5204 - val_acc: 0.7540\n",
            "Epoch 14/50\n",
            "100/100 [==============================] - 17s 172ms/step - loss: 0.5041 - acc: 0.7560 - val_loss: 0.5185 - val_acc: 0.7620\n",
            "Epoch 15/50\n",
            "100/100 [==============================] - 17s 173ms/step - loss: 0.5067 - acc: 0.7675 - val_loss: 0.5086 - val_acc: 0.7710\n",
            "Epoch 16/50\n",
            "100/100 [==============================] - 17s 173ms/step - loss: 0.4867 - acc: 0.7695 - val_loss: 0.4712 - val_acc: 0.7670\n",
            "Epoch 17/50\n",
            "100/100 [==============================] - 17s 172ms/step - loss: 0.5072 - acc: 0.7765 - val_loss: 0.5103 - val_acc: 0.7810\n",
            "Epoch 18/50\n",
            "100/100 [==============================] - 17s 171ms/step - loss: 0.4929 - acc: 0.7570 - val_loss: 0.4771 - val_acc: 0.7640\n",
            "Epoch 19/50\n",
            "100/100 [==============================] - 17s 171ms/step - loss: 0.4664 - acc: 0.7805 - val_loss: 0.5184 - val_acc: 0.7410\n",
            "Epoch 20/50\n",
            "100/100 [==============================] - 17s 170ms/step - loss: 0.4637 - acc: 0.7715 - val_loss: 0.4881 - val_acc: 0.7640\n",
            "Epoch 21/50\n",
            "100/100 [==============================] - 17s 170ms/step - loss: 0.4751 - acc: 0.7815 - val_loss: 0.4678 - val_acc: 0.7740\n",
            "Epoch 22/50\n",
            "100/100 [==============================] - 17s 172ms/step - loss: 0.4654 - acc: 0.7890 - val_loss: 0.4797 - val_acc: 0.7700\n",
            "Epoch 23/50\n",
            "100/100 [==============================] - 17s 170ms/step - loss: 0.4580 - acc: 0.7865 - val_loss: 0.5436 - val_acc: 0.7700\n",
            "Epoch 24/50\n",
            "100/100 [==============================] - 17s 169ms/step - loss: 0.4524 - acc: 0.7955 - val_loss: 0.5486 - val_acc: 0.7480\n",
            "Epoch 25/50\n",
            "100/100 [==============================] - 17s 171ms/step - loss: 0.4552 - acc: 0.7890 - val_loss: 0.5164 - val_acc: 0.7760\n",
            "Epoch 26/50\n",
            "100/100 [==============================] - 19s 187ms/step - loss: 0.4559 - acc: 0.7975 - val_loss: 0.4642 - val_acc: 0.8010\n",
            "Epoch 27/50\n",
            "100/100 [==============================] - 17s 169ms/step - loss: 0.4449 - acc: 0.8050 - val_loss: 0.4238 - val_acc: 0.7990\n",
            "Epoch 28/50\n",
            "100/100 [==============================] - 17s 168ms/step - loss: 0.4258 - acc: 0.8160 - val_loss: 0.4366 - val_acc: 0.7990\n",
            "Epoch 29/50\n",
            "100/100 [==============================] - 17s 170ms/step - loss: 0.4406 - acc: 0.8035 - val_loss: 0.4784 - val_acc: 0.7890\n",
            "Epoch 30/50\n",
            "100/100 [==============================] - 17s 170ms/step - loss: 0.4099 - acc: 0.8130 - val_loss: 0.4577 - val_acc: 0.7900\n",
            "Epoch 31/50\n",
            "100/100 [==============================] - 17s 168ms/step - loss: 0.4272 - acc: 0.8100 - val_loss: 0.6167 - val_acc: 0.6820\n",
            "Epoch 32/50\n",
            "100/100 [==============================] - 17s 169ms/step - loss: 0.4296 - acc: 0.8035 - val_loss: 0.4570 - val_acc: 0.8040\n",
            "Epoch 33/50\n",
            "100/100 [==============================] - 17s 168ms/step - loss: 0.4192 - acc: 0.8115 - val_loss: 0.4647 - val_acc: 0.7640\n",
            "Epoch 34/50\n",
            "100/100 [==============================] - 17s 166ms/step - loss: 0.3997 - acc: 0.8225 - val_loss: 0.4429 - val_acc: 0.7850\n",
            "Epoch 35/50\n",
            "100/100 [==============================] - 17s 168ms/step - loss: 0.4090 - acc: 0.8085 - val_loss: 0.4548 - val_acc: 0.7930\n",
            "Epoch 36/50\n",
            "100/100 [==============================] - 17s 167ms/step - loss: 0.4220 - acc: 0.8005 - val_loss: 0.4893 - val_acc: 0.7860\n",
            "Epoch 37/50\n",
            "100/100 [==============================] - 17s 167ms/step - loss: 0.4137 - acc: 0.8110 - val_loss: 0.4446 - val_acc: 0.8030\n",
            "Epoch 38/50\n",
            "100/100 [==============================] - 17s 167ms/step - loss: 0.4083 - acc: 0.8145 - val_loss: 0.4829 - val_acc: 0.7870\n",
            "Epoch 39/50\n",
            "100/100 [==============================] - 17s 167ms/step - loss: 0.4225 - acc: 0.8180 - val_loss: 0.4494 - val_acc: 0.8080\n",
            "Epoch 40/50\n",
            "100/100 [==============================] - 19s 186ms/step - loss: 0.4037 - acc: 0.8320 - val_loss: 0.4509 - val_acc: 0.7960\n",
            "Epoch 41/50\n",
            "100/100 [==============================] - 17s 168ms/step - loss: 0.4070 - acc: 0.8165 - val_loss: 0.5088 - val_acc: 0.7810\n",
            "Epoch 42/50\n",
            "100/100 [==============================] - 17s 167ms/step - loss: 0.3930 - acc: 0.8205 - val_loss: 0.6066 - val_acc: 0.7900\n",
            "Epoch 43/50\n",
            "100/100 [==============================] - 17s 167ms/step - loss: 0.4117 - acc: 0.8295 - val_loss: 0.5416 - val_acc: 0.7730\n",
            "Epoch 44/50\n",
            "100/100 [==============================] - 17s 167ms/step - loss: 0.4052 - acc: 0.8270 - val_loss: 0.4516 - val_acc: 0.7870\n",
            "Epoch 45/50\n",
            "100/100 [==============================] - 17s 168ms/step - loss: 0.3897 - acc: 0.8350 - val_loss: 0.5779 - val_acc: 0.7910\n",
            "Epoch 46/50\n",
            "100/100 [==============================] - 17s 168ms/step - loss: 0.3951 - acc: 0.8375 - val_loss: 0.4947 - val_acc: 0.7660\n",
            "Epoch 47/50\n",
            "100/100 [==============================] - 17s 168ms/step - loss: 0.3748 - acc: 0.8365 - val_loss: 0.4898 - val_acc: 0.8080\n",
            "Epoch 48/50\n",
            "100/100 [==============================] - 17s 168ms/step - loss: 0.3988 - acc: 0.8300 - val_loss: 0.4378 - val_acc: 0.7890\n",
            "Epoch 49/50\n",
            "100/100 [==============================] - 17s 168ms/step - loss: 0.3805 - acc: 0.8405 - val_loss: 0.4897 - val_acc: 0.8030\n",
            "Epoch 50/50\n",
            "100/100 [==============================] - 17s 168ms/step - loss: 0.4037 - acc: 0.8325 - val_loss: 0.4811 - val_acc: 0.7740\n"
          ]
        }
      ]
    },
    {
      "cell_type": "markdown",
      "metadata": {
        "id": "1LTWMLV6SUvP"
      },
      "source": [
        "Note that with data augmentation in place, the 2,000 training images are randomly transformed each time a new training epoch runs, which means that the model will never see the same image twice during training."
      ]
    },
    {
      "cell_type": "markdown",
      "metadata": {
        "id": "IZqvC9UJlWc2"
      },
      "source": [
        "## Evaluate the Results\n",
        "\n",
        "Let's evaluate the results of model training with data augmentation and dropout:"
      ]
    },
    {
      "cell_type": "code",
      "metadata": {
        "id": "NKCjHegASXaA",
        "colab": {
          "base_uri": "https://localhost:8080/",
          "height": 562
        },
        "outputId": "8707e5a8-b0c7-4254-a3f2-02c364e12635"
      },
      "source": [
        "from matplotlib import pyplot as plt\n",
        "\n",
        "# Retrieve a list of accuracy results on training and validation data\n",
        "# sets for each training epoch\n",
        "acc = history.history['acc']\n",
        "val_acc = history.history['val_acc']\n",
        "\n",
        "# Retrieve a list of list results on training and validation data\n",
        "# sets for each training epoch\n",
        "loss = history.history['loss']\n",
        "val_loss = history.history['val_loss']\n",
        "\n",
        "# Get number of epochs\n",
        "epochs = range(len(acc))\n",
        "\n",
        "# Plot training and validation accuracy per epoch\n",
        "plt.plot(epochs, acc)\n",
        "plt.plot(epochs, val_acc)\n",
        "plt.title('Training and validation accuracy')\n",
        "\n",
        "plt.figure()\n",
        "\n",
        "# Plot training and validation loss per epoch\n",
        "plt.plot(epochs, loss)\n",
        "plt.plot(epochs, val_loss)\n",
        "plt.title('Training and validation loss')"
      ],
      "execution_count": 9,
      "outputs": [
        {
          "output_type": "execute_result",
          "data": {
            "text/plain": [
              "Text(0.5, 1.0, 'Training and validation loss')"
            ]
          },
          "metadata": {},
          "execution_count": 9
        },
        {
          "output_type": "display_data",
          "data": {
            "text/plain": [
              "<Figure size 432x288 with 1 Axes>"
            ],
            "image/png": "[encoded data removed]"
          },
          "metadata": {
            "needs_background": "light"
          }
        },
        {
          "output_type": "display_data",
          "data": {
            "text/plain": [
              "<Figure size 432x288 with 1 Axes>"
            ],
            "image/png": "[encoded data removed]"
          },
          "metadata": {
            "needs_background": "light"
          }
        }
      ]
    }
  ]
}