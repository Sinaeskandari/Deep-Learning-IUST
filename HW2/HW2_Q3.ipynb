{
  "cells": [
    {
      "cell_type": "markdown",
      "metadata": {
        "id": "9DGZ7qMLPM_J"
      },
      "source": [
        "## Import some prerequirement"
      ]
    },
    {
      "cell_type": "code",
      "execution_count": 14,
      "metadata": {
        "id": "uqz_Q2yROq1g"
      },
      "outputs": [],
      "source": [
        "import os\n",
        "import cv2\n",
        "import numpy as np\n",
        "import tensorflow as tf\n",
        "import matplotlib.pyplot as plt\n",
        "import datetime\n",
        "from tensorflow.keras import datasets\n",
        "from tensorflow.keras.utils import to_categorical\n",
        "from tensorflow.keras import layers\n",
        "from tensorflow.keras.models import Sequential"
      ]
    },
    {
      "cell_type": "markdown",
      "metadata": {
        "id": "Da_-mxp7QdjB"
      },
      "source": [
        "## Set hyperparameters"
      ]
    },
    {
      "cell_type": "code",
      "execution_count": 22,
      "metadata": {
        "id": "zRlfdCizMcHG"
      },
      "outputs": [],
      "source": [
        "IMG_WIDTH = 28\n",
        "IMG_HEIGHT = 28\n",
        "EPOCHS = 10\n",
        "BATCH_SIZE= 128\n",
        "n_classes = 10"
      ]
    },
    {
      "cell_type": "markdown",
      "metadata": {
        "id": "pVp5VcJvc1C2"
      },
      "source": [
        "## Initialize train and test data"
      ]
    },
    {
      "cell_type": "code",
      "execution_count": 4,
      "metadata": {
        "id": "5x_C3sDuQmlt"
      },
      "outputs": [],
      "source": [
        "data = np.load('mnist.npz')\n",
        "[x_train, y_train, x_test, y_test] = data['x_train'], data['y_train'], data['x_test'], data['y_test']"
      ]
    },
    {
      "cell_type": "code",
      "source": [
        "x_train, x_test = x_train / 255.0, x_test / 255.0\n",
        "y_train = to_categorical(y_train, num_classes=n_classes)\n",
        "y_test = to_categorical(y_test, num_classes=n_classes)"
      ],
      "metadata": {
        "id": "PbqXKQpmrF92"
      },
      "execution_count": 5,
      "outputs": []
    },
    {
      "cell_type": "markdown",
      "metadata": {
        "id": "omseU3OQQs4K"
      },
      "source": [
        "## Show dataset"
      ]
    },
    {
      "cell_type": "code",
      "execution_count": 8,
      "metadata": {
        "id": "y1XvM-DaPYOG",
        "colab": {
          "base_uri": "https://localhost:8080/",
          "height": 193
        },
        "outputId": "1d92a768-3772-4224-f56b-c998f6e4fb99"
      },
      "outputs": [
        {
          "output_type": "stream",
          "name": "stderr",
          "text": [
            "/usr/local/lib/python3.7/dist-packages/matplotlib/text.py:1165: FutureWarning: elementwise comparison failed; returning scalar instead, but in the future will perform elementwise comparison\n",
            "  if s != self._text:\n"
          ]
        },
        {
          "output_type": "display_data",
          "data": {
            "text/plain": [
              "<Figure size 1800x288 with 8 Axes>"
            ],
            "image/png": "[encoded data removed]"
          },
          "metadata": {}
        }
      ],
      "source": [
        "plt.figure(figsize=(25,4))\n",
        "for i in range(8):\n",
        "    plt.subplot(1,8,i+1)\n",
        "    plt.imshow(x_train[i], cmap='gray')\n",
        "    plt.xticks([])\n",
        "    plt.yticks([])\n",
        "    plt.title(y_train[i])"
      ]
    },
    {
      "cell_type": "markdown",
      "metadata": {
        "id": "VazcvGGRHjZu"
      },
      "source": [
        "## Define model"
      ]
    },
    {
      "cell_type": "code",
      "execution_count": 9,
      "metadata": {
        "id": "1TCJHBSUsLSS"
      },
      "outputs": [],
      "source": [
        "def build_model():\n",
        "    model = Sequential()\n",
        "    model.add(layers.Flatten(input_shape=(IMG_WIDTH, IMG_HEIGHT)))\n",
        "    model.add(layers.Dense(512, activation='relu'))\n",
        "    model.add(layers.Dense(128, activation='relu'))\n",
        "    model.add(layers.Dense(10, activation='softmax'))\n",
        "    return model"
      ]
    },
    {
      "cell_type": "markdown",
      "metadata": {
        "id": "X1QKfUHLKsJ5"
      },
      "source": [
        "## Compile and fit model"
      ]
    },
    {
      "cell_type": "code",
      "source": [
        "%load_ext tensorboard"
      ],
      "metadata": {
        "id": "Qhm2hu2wyyC3"
      },
      "execution_count": null,
      "outputs": []
    },
    {
      "cell_type": "code",
      "execution_count": null,
      "metadata": {
        "id": "1yaeMNzsKxuz"
      },
      "outputs": [],
      "source": [
        "# Compile model adam\n",
        "model_adam = build_model()\n",
        "model_adam.compile(optimizer='adam',\n",
        "                   loss='categorical_crossentropy',\n",
        "                   metrics=['accuracy'])\n",
        "\n",
        "\n",
        "log_dir = \"logs/fit/adam/\" + datetime.datetime.now().strftime(\"%Y%m%d-%H%M%S\")\n",
        "tensorboard_callback = tf.keras.callbacks.TensorBoard(log_dir=log_dir, histogram_freq=1)\n",
        "\n",
        "# Fit model\n",
        "model_adam.fit(x_train, y_train,\n",
        "               validation_data=(x_test, y_test),\n",
        "               batch_size=BATCH_SIZE,\n",
        "               epochs=EPOCHS,\n",
        "               callbacks=[tensorboard_callback])\n",
        "\n",
        "%tensorboard --logdir logs/fit/adam"
      ]
    },
    {
      "cell_type": "code",
      "source": [
        "# Compile model rmsprop\n",
        "model_rmsprop = build_model()\n",
        "model_rmsprop.compile(optimizer='rmsprop',\n",
        "                      loss='categorical_crossentropy',\n",
        "                      metrics=['accuracy'])\n",
        "\n",
        "\n",
        "log_dir = \"logs/fit/rmsprop/\" + datetime.datetime.now().strftime(\"%Y%m%d-%H%M%S\")\n",
        "tensorboard_callback = tf.keras.callbacks.TensorBoard(log_dir=log_dir, histogram_freq=1)\n",
        "\n",
        "\n",
        "# Fit model\n",
        "model_rmsprop.fit(x_train, y_train,\n",
        "                  validation_data=(x_test, y_test),\n",
        "                  batch_size=BATCH_SIZE,\n",
        "                  epochs=EPOCHS,\n",
        "                  callbacks=[tensorboard_callback])\n",
        "\n",
        "%tensorboard --logdir logs/fit/rmsprop"
      ],
      "metadata": {
        "id": "20frel-4BNDd"
      },
      "execution_count": null,
      "outputs": []
    },
    {
      "cell_type": "code",
      "source": [
        "# Compile model adagrad\n",
        "model_adagrad = build_model()\n",
        "model_adagrad.compile(optimizer='adagrad',\n",
        "                      loss='categorical_crossentropy',\n",
        "                      metrics=['accuracy'])\n",
        "\n",
        "\n",
        "log_dir = \"logs/fit/adagrad/\" + datetime.datetime.now().strftime(\"%Y%m%d-%H%M%S\")\n",
        "tensorboard_callback = tf.keras.callbacks.TensorBoard(log_dir=log_dir, histogram_freq=1)\n",
        "\n",
        "model_adagrad.fit(x_train, y_train,\n",
        "                  validation_data=(x_test, y_test),\n",
        "                  batch_size=BATCH_SIZE,\n",
        "                  epochs=EPOCHS,\n",
        "                  callbacks=[tensorboard_callback])\n",
        "\n",
        "%tensorboard --logdir logs/fit/adagrad"
      ],
      "metadata": {
        "id": "iKz-x4fRDDDp"
      },
      "execution_count": null,
      "outputs": []
    },
    {
      "cell_type": "markdown",
      "metadata": {
        "id": "y6hFEj66HnQL"
      },
      "source": [
        "## Save best model"
      ]
    },
    {
      "cell_type": "code",
      "execution_count": 43,
      "metadata": {
        "id": "WGMIz6WGHiNM"
      },
      "outputs": [],
      "source": [
        "# save best model\n",
        "model_rmsprop.save_weights(\"model.h5\")"
      ]
    },
    {
      "cell_type": "code",
      "source": [
        "model_json = model_rmsprop.to_json()\n",
        "with open(\"model.json\", \"w\") as json_file:\n",
        "    json_file.write(model_json)\n"
      ],
      "metadata": {
        "id": "fBebuWPlM1s-"
      },
      "execution_count": 45,
      "outputs": []
    },
    {
      "cell_type": "markdown",
      "metadata": {
        "id": "Ya1E9pHzLOBG"
      },
      "source": [
        "## Evaluate best model"
      ]
    },
    {
      "cell_type": "code",
      "execution_count": 41,
      "metadata": {
        "id": "1iJYPtFXHMFb",
        "colab": {
          "base_uri": "https://localhost:8080/"
        },
        "outputId": "8d20a45d-5e52-48d0-e1ae-fe0986a39e50"
      },
      "outputs": [
        {
          "output_type": "stream",
          "name": "stdout",
          "text": [
            "313/313 [==============================] - 1s 2ms/step\n",
            "accuracy = 98.06 %\n"
          ]
        }
      ],
      "source": [
        "# evaluate best model\n",
        "y_pred = model_rmsprop.predict(x_test)\n",
        "print(f'accuracy = {np.average(np.argmax(y_pred, axis=1) == np.argmax(y_test, axis=1)) * 100} %')"
      ]
    },
    {
      "cell_type": "markdown",
      "metadata": {
        "id": "J8gdZX4QIN3i"
      },
      "source": [
        "## Get Reports"
      ]
    },
    {
      "cell_type": "code",
      "execution_count": 42,
      "metadata": {
        "id": "_rXoX8ybIQnQ",
        "colab": {
          "base_uri": "https://localhost:8080/"
        },
        "outputId": "17a427b8-6ec2-4330-f4eb-d148f6fcd0cd"
      },
      "outputs": [
        {
          "output_type": "stream",
          "name": "stdout",
          "text": [
            "[[ 975    1    0    1    1    0    0    1    1    0]\n",
            " [   3 1119    3    2    0    2    3    1    2    0]\n",
            " [   1    0 1008   11    1    0    0    5    5    1]\n",
            " [   0    0    2 1000    0    3    0    3    1    1]\n",
            " [   2    1    3    0  953    1    2    2    1   17]\n",
            " [   2    0    0    9    0  876    2    0    2    1]\n",
            " [   2    1    0    1    4    6  944    0    0    0]\n",
            " [   1    1    8    1    1    0    0 1003    2   11]\n",
            " [   3    1    3    6    3    7    3    4  939    5]\n",
            " [   1    2    0    4    6    5    0    2    0  989]]\n",
            "              precision    recall  f1-score   support\n",
            "\n",
            "           0       0.98      0.99      0.99       980\n",
            "           1       0.99      0.99      0.99      1135\n",
            "           2       0.98      0.98      0.98      1032\n",
            "           3       0.97      0.99      0.98      1010\n",
            "           4       0.98      0.97      0.98       982\n",
            "           5       0.97      0.98      0.98       892\n",
            "           6       0.99      0.99      0.99       958\n",
            "           7       0.98      0.98      0.98      1028\n",
            "           8       0.99      0.96      0.97       974\n",
            "           9       0.96      0.98      0.97      1009\n",
            "\n",
            "    accuracy                           0.98     10000\n",
            "   macro avg       0.98      0.98      0.98     10000\n",
            "weighted avg       0.98      0.98      0.98     10000\n",
            "\n"
          ]
        }
      ],
      "source": [
        "# get report of metrics\n",
        "from sklearn.metrics import classification_report, confusion_matrix\n",
        "\n",
        "y_pred = np.argmax(y_pred, axis=1)\n",
        "y_true = np.argmax(y_test, axis=1)\n",
        "\n",
        "conf = confusion_matrix(y_true, y_pred, normalize=None)\n",
        "\n",
        "print(conf)\n",
        "\n",
        "report = classification_report(y_true, y_pred)\n",
        "\n",
        "print(report)"
      ]
    }
  ],
  "metadata": {
    "colab": {
      "provenance": [],
      "toc_visible": true,
      "collapsed_sections": []
    },
    "kernelspec": {
      "display_name": "Python 3 (ipykernel)",
      "language": "python",
      "name": "python3"
    },
    "language_info": {
      "codemirror_mode": {
        "name": "ipython",
        "version": 3
      },
      "file_extension": ".py",
      "mimetype": "text/x-python",
      "name": "python",
      "nbconvert_exporter": "python",
      "pygments_lexer": "ipython3",
      "version": "3.8.10"
    },
    "gpuClass": "standard"
  },
  "nbformat": 4,
  "nbformat_minor": 0
}